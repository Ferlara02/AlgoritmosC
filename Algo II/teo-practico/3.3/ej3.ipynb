{
 "cells": [
  {
   "cell_type": "markdown",
   "id": "71db2bd3",
   "metadata": {},
   "source": [
    "## 3) \n",
    "- Una panaderıa recibe n pedidos por importes m1, . . . , mn, pero solo queda en deposito una cantidad H de harina en buen estado. Sabiendo que los pedidos requieren una cantidad h1, . . . , hn de harina (respectivamente), determinar el maximo importe que es posible obtener con la harina disponible.\n",
    "\n",
    "### I) Parámetros:\n",
    "- i : Nat ⇒ pedidos 1,..,i \n",
    "- h : Nat ⇒ harina\n",
    "\n",
    "### II) Qué:\n",
    "- Sea importe(𝑖,ℎ) el máximo importe que se puede obtener considerando los primeros i pedidos con ℎ unidades de harina disponibles.\n",
    "\n",
    "### III) Definición recursiva:\n",
    "\n",
    "$$\n",
    "importe(i, h) = \n",
    "\\begin{cases}\n",
    "  0       & \\text{si } i = 0 \\ \\lor \\ h = 0\\\\\n",
    "  importe(i-1, \\ h)        & \\text{si } h_i > h \\\\\n",
    "  max(m_i + importe(i-1, \\ h-h_i), \\ importe(i-1, \\ h))         & \\text{si } i > 0 \\ \\land h \\geq h_i > 0\n",
    "\\end{cases}\n",
    "$$\n",
    "\n",
    ">  La llamada principal es importe(n, h)\n"
   ]
  }
 ],
 "metadata": {
  "language_info": {
   "name": "python"
  }
 },
 "nbformat": 4,
 "nbformat_minor": 5
}
