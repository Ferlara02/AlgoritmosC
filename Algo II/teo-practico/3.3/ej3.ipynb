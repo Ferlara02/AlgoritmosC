{
 "cells": [
  {
   "cell_type": "markdown",
   "id": "71db2bd3",
   "metadata": {},
   "source": [
    "## 3) \n",
    "- Una panaderıa recibe n pedidos por importes m1, . . . , mn, pero solo queda en deposito una cantidad H de harina en buen estado. Sabiendo que los pedidos requieren una cantidad h1, . . . , hn de harina (respectivamente), determinar el maximo importe que es posible obtener con la harina disponible.\n",
    "\n",
    "### I) Parámetros:\n",
    "- i : Nat ⇒ importes 1,..,i \n",
    "- h : Nat ⇒ harina\n",
    "\n",
    "### II) Qué:\n",
    "- La función calculará la máxima cantidad de importes i que se puede lograr con h cantidad de harina\n",
    "\n",
    "### III) Definición recursiva:\n",
    "\n",
    "$$\n",
    "f(x) = \n",
    "\\begin{cases}\n",
    "  0       & \\text{si } i = 0 \\\\\n",
    "  -\\infty        & \\text{si } i \\geq 0 \\ \\land h = 0 \\\\\n",
    "  s         & \\text{si } i \\geq 0\n",
    "\\end{cases}\n",
    "$$\n"
   ]
  }
 ],
 "metadata": {
  "language_info": {
   "name": "python"
  }
 },
 "nbformat": 4,
 "nbformat_minor": 5
}
