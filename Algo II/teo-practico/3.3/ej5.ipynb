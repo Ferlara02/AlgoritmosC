{
 "cells": [
  {
   "cell_type": "markdown",
   "id": "cb0fa747",
   "metadata": {},
   "source": [
    "### 5)\n",
    "- Sus amigos quedaron encantados con el telefono satelital, para las proximas vacaciones ofrecen pagarle un alquiler por el. Ademas del día de partida y de regreso (pi y ri) cada amigo ofrece un monto mi por día. Determinar el máximo valor alcanzable alquilando el teléfono."
   ]
  }
 ],
 "metadata": {
  "language_info": {
   "name": "python"
  }
 },
 "nbformat": 4,
 "nbformat_minor": 5
}
