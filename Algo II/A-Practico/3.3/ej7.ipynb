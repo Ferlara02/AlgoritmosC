{
 "cells": [
  {
   "cell_type": "markdown",
   "id": "2e0936b3",
   "metadata": {},
   "source": [
    "### \n",
    "- En el problema de la mochila se buscaba el maximo valor alcanzable al seleccionar entre n objetos\n",
    "de valores v1, . . . , vn y pesos w1, . . . , wn, respectivamente, una combinacion de ellos que quepa en\n",
    "una mochila de capacidad W. Si se tienen dos mochilas con capacidades W1 y W2, ¿cual es el valor\n",
    "maximo alcanzable al seleccionar objetos para cargar en ambas mochilas?\n",
    "\n",
    "### Parámetros: \n",
    "- representando con el parámetro i los objetos 1, 2, ..., i, con j\n",
    "la capacidad restante de la mochila 1, y k la capacidad restante de la mochila 2.\n",
    "\n",
    "### Que:\n",
    "\n",
    "- La función maxValor(i, j, k) calcula el maximo valor alcanzable al seleccionar entre i objetos para cargar en dos mochilas, con capacidad j y k, resp.\n",
    "\n",
    "> Si el objeto cabe en ambas mochilas:\n",
    "> va a haber un caso en el que elijo NO cargar el objeto i, \n",
    "> otro en el que elijo cargarlo en la mochila 1, y otro en la mochila 2\n",
    "### Funcion recursiva:\n",
    "$$\n",
    "\\text{maxValor}(i, j, k) = \n",
    "\\begin{cases}\n",
    "  0       & \\text{si }   i=0 \\vee (j=0 \\wedge k=0) \\\\\n",
    "  -\\infty & \\text{si }   j<0 \\vee k<0 \\\\\n",
    "  \\text{maxValor}(i-1, j, k) & \\text{si } w_i > k > 0 \\wedge w_i > j > 0 \\\\\n",
    "  \\max\\big( \n",
    "    \\max( v_i + \\text{maxValor}(i-1, j - w_i, k),\\ v_i + \\text{maxValor}(i-1, j, k - w_i) ),\\ \n",
    "    \\text{maxValor}(i-1, j, k)\n",
    "  \\big)\n",
    "  & \\text{si } j \\ge w_i \\vee k \\ge w_i\n",
    "\\end{cases}\n",
    "$$\n",
    "> Llamada principal: maxValor(n, W1, W2)\n"
   ]
  }
 ],
 "metadata": {
  "language_info": {
   "name": "python"
  }
 },
 "nbformat": 4,
 "nbformat_minor": 5
}
