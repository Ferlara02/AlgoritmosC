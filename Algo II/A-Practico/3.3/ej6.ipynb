{
 "cells": [
  {
   "cell_type": "markdown",
   "id": "7de526a3",
   "metadata": {},
   "source": [
    "### 6) \n",
    "- Un artesano utiliza materia prima de dos tipos: A y B. Dispone de una cantidad MA y MB de cada una de ellas. Tiene a su vez pedidos de fabricar n productos p1, . . . pn (uno de cada uno).\n",
    "Cada uno de ellos tiene un valor de venta v1, . . . , vn y requiere para su elaboracion cantidades\n",
    "a1, . . . , an de materia prima de tipo A y b1, . . . , bn de materia prima de tipo B. ¿Cual es el mayor valor alcanzable con las cantidades de materia prima disponible?\n",
    "\n",
    "### Parámetros:\n",
    "- a y b cantidades de materia prima disponible de cada tipo, resp.\n",
    "- i cantidad de productos\n",
    "### Qué:\n",
    "- La función maxValor(a, b, i) calcula el mayor valor alcanzable con las cantidades de materia prima a y b, a partir de i pedidos\n",
    "\n",
    "### Funcion recursiva:\n",
    "> Explicación: Análogo al ejercicio de la panadería.\n",
    "\n",
    "$$\n",
    "maxValor(a, b, i) = \n",
    "\\begin{cases}\n",
    "  0       & \\text{si }   i=0 \\vee (a = 0 \\wedge b = 0)\\\\\n",
    "  maxValor(a, \\ b, \\ i-1) & \\text{si } a<a_i  \\vee b < b_i\\\\\n",
    "  max(v_i + maxValor(a-a_i, \\ b-b_i, \\ i-1), \\ maxValor(a, \\ b, \\ i-1))         & \\text{si } i > 0 \\\\\n",
    "\\end{cases}\n",
    "$$\n",
    "\n",
    "> La llamada principal que resuelve el problema es: maxValor(MA, MB, n)"
   ]
  }
 ],
 "metadata": {
  "language_info": {
   "name": "python"
  }
 },
 "nbformat": 4,
 "nbformat_minor": 5
}
