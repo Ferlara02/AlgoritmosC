{
 "cells": [
  {
   "cell_type": "markdown",
   "id": "32112fc3",
   "metadata": {},
   "source": [
    "### 4)\n",
    "- Usted se encuentra en un globo aerostatico sobrevolando el oceano cuando descubre que empieza a perder altura porque la lona esta levemente dañada. Tiene consigo n objetos cuyos pesos p1, . . . , pn y valores v1, . . . , vn conoce. Si se desprende de al menos P kilogramos logrará recuperar altura y llegar a tierra firme, y afortunadamente la suma de los pesos de los objetos supera holgadamente P. ¿Cual es el menor valor total de los objetos que necesita arrojar para llegar sano y salvo a la costa?\n",
    "\n",
    "### I) Parámetros:\n",
    "- i : Nat => objetos 1,.., i\n",
    "- p : Nat => peso que perder\n",
    "\n",
    "### II) Qué:\n",
    "- sea minValor(i, p) una funcion que calcula el menor valor total de los objetos que necesito arrojar (entre i objetos) para liberarme de -al menos- un peso p.\n",
    "\n",
    "### III) Definición recursiva\n",
    "\n",
    "$$\n",
    "minValor(i, p) = \n",
    "\\begin{cases}\n",
    "  0       & \\text{si }  p <= 0\\\\\n",
    "  \\infty & \\text{si } i=0 \\land \\ p>0 \\\\\n",
    "  min(v_i + minValor(i-1, \\ p-p_i), \\ minValor(i-1, \\ p))         & \\text{si } i > 0 \\ \\land p > 0\n",
    "\\end{cases}\n",
    "$$\n",
    "\n",
    "> La llamada principal que calcula el resultado de este ejercicio es:\n",
    "> ###### minValor(n, P)\n"
   ]
  }
 ],
 "metadata": {
  "language_info": {
   "name": "python"
  }
 },
 "nbformat": 4,
 "nbformat_minor": 5
}
