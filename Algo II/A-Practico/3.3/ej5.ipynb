{
 "cells": [
  {
   "cell_type": "markdown",
   "id": "cb0fa747",
   "metadata": {},
   "source": [
    "### 5)\n",
    "- Sus amigos quedaron encantados con el telefono satelital, para las proximas vacaciones ofrecen pagarle un alquiler por el. Ademas del día de partida y de regreso (pi y ri) cada amigo ofrece un monto mi por día. Determinar el máximo valor alcanzable alquilando el teléfono.\n",
    "-> Queremos maximizar la plata ganada.\n",
    "### Parámetros:\n",
    "- d -> día actual\n",
    "- i -> amigos 1,..., i\n",
    "### Qué:\n",
    "- La función maxGanancia(d, i) es la \"máxima plata que puedo ganar prestando el teléfono del día d hasta el último día, entre i amigos\"\n",
    "\n",
    "\n",
    "### Funcion recursiva:\n",
    "\n",
    "$$\n",
    "\\text{maxGanancia}(d) = \n",
    "\\begin{cases}\n",
    "  0 & \\text{si } \\forall i,\\ p_i < d \\\\\n",
    "  \\max\\left( \\text{maxGanancia}(d+1),\\ \\max\\limits_{i \\mid p_i = d} \\left( m_i \\cdot (r_i - p_i + 1) + \\text{maxGanancia}(r_i + 1) \\right) \\right) & \\text{en cualquier otro caso }\n",
    "\\end{cases}\n",
    "$$"
   ]
  }
 ],
 "metadata": {
  "language_info": {
   "name": "python"
  }
 },
 "nbformat": 4,
 "nbformat_minor": 5
}
